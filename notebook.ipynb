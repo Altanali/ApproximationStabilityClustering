{
 "cells": [
  {
   "cell_type": "code",
   "execution_count": 1,
   "metadata": {},
   "outputs": [],
   "source": [
    "import numpy as np\n"
   ]
  },
  {
   "cell_type": "code",
   "execution_count": 31,
   "metadata": {},
   "outputs": [],
   "source": [
    "class BBG:\n",
    "\tdef __init__(self, alpha: float=2.0, epsilon: float=1.0):\n",
    "\t\tself.alpha = alpha\n",
    "\t\tself.epsilon = epsilon\n",
    "\t\n",
    "\t#mxn matrix -> m points, each are in R^n. \n",
    "\tdef run(self, points: np.ndarray, k: int=-1):\n",
    "\t\tm = points.shape[0]\n",
    "\t\tn = points.shape[1]\n",
    "\t\tdistances = BBG.get_euclidean_distances(points)\n",
    "\t\tsorted_distances = np.sort(np.unique(np.ravel(distances)))\n",
    "\t\tmax_iterations = len(sorted_distances)\n",
    "\t\tfor j in range(max_iterations):\n",
    "\t\t\ttau = sorted_distances[j]\n",
    "\t\t\ttau_neighbors = np.where(distances <= tau, 1, 0)\n",
    "\t\t\tb = (1 + 5/self.alpha)*self.epsilon*n\n",
    "\t\t\tH = np.zeros((m, m))\n",
    "\t\t\t\n",
    "\t\t\t#if somebody wants to find a more numpy/pythonic way to this \n",
    "\t\t\t#feel free to change it\n",
    "\t\t\tfor (r, c) in list(zip(range(m), range(m))):\n",
    "\t\t\t\tH[r][c] = np.count_nonzero(np.logical_and(tau_neighbors[r], tau_neighbors[c]))\n",
    "\t\t\tH = np.where(H >= b, 1, 0)\n",
    "\n",
    "\t\t\tconnected_components = BBG.find_components(H)\n",
    "\n",
    "\t\t\n",
    "\n",
    "\n",
    "\t@staticmethod\n",
    "\tdef find_components(H: np.ndarray): \n",
    "\t\tvisited = [False]*len(H)\n",
    "\t\tcomponents = []\n",
    "\t\tfor i in range(len(H)):\n",
    "\t\t\tif visited[i]:\n",
    "\t\t\t\tcontinue\n",
    "\t\t\tstack = [i]\n",
    "\t\t\tcomponent = []\n",
    "\t\t\twhile len(stack) != 0:\n",
    "\t\t\t\tcurr = stack.pop()\n",
    "\t\t\t\tprint(curr)\n",
    "\t\t\t\tif visited[curr]:\n",
    "\t\t\t\t\tcontinue\n",
    "\t\t\t\tvisited[curr] = True\n",
    "\t\t\t\tcomponent.append(curr)\n",
    "\t\t\t\tstack.extend(list(np.ravel(np.argwhere(H[curr]))))\n",
    "\t\t\tcomponents.append(component)\n",
    "\t\treturn components\n",
    "\n",
    "\t@staticmethod\n",
    "\tdef get_euclidean_distances(points: np.ndarray): \n",
    "\t\t#points consists of m n-dim points in an mxn array. \n",
    "\t\t#output is an mxm array where the (i,j) index contains\n",
    "\t\t#the distance from point i to point j in points. \n",
    "\t\treturn np.linalg.norm(points[:, None, :] - points[None, :, :], axis=-1)\n",
    "\t\n",
    "\t\t"
   ]
  },
  {
   "cell_type": "code",
   "execution_count": 33,
   "metadata": {},
   "outputs": [
    {
     "name": "stdout",
     "output_type": "stream",
     "text": [
      "0\n",
      "3\n",
      "2\n",
      "3\n",
      "0\n",
      "1\n",
      "0\n",
      "[[0, 3, 2, 1]]\n"
     ]
    }
   ],
   "source": [
    "graph = np.zeros((4, 4))\n",
    "graph[0][3] = 1\n",
    "graph[3][0] = 1\n",
    "graph[3][2] = graph[2][3] = 1\n",
    "graph[1][0] = graph[0][1] = 1\n",
    "components = BBG.find_components(graph)\n",
    "print(components)"
   ]
  },
  {
   "cell_type": "code",
   "execution_count": null,
   "metadata": {},
   "outputs": [],
   "source": []
  },
  {
   "cell_type": "code",
   "execution_count": null,
   "metadata": {},
   "outputs": [],
   "source": []
  }
 ],
 "metadata": {
  "kernelspec": {
   "display_name": "base",
   "language": "python",
   "name": "python3"
  },
  "language_info": {
   "codemirror_mode": {
    "name": "ipython",
    "version": 3
   },
   "file_extension": ".py",
   "mimetype": "text/x-python",
   "name": "python",
   "nbconvert_exporter": "python",
   "pygments_lexer": "ipython3",
   "version": "3.9.12"
  }
 },
 "nbformat": 4,
 "nbformat_minor": 2
}
