{
 "cells": [
  {
   "cell_type": "code",
   "execution_count": 34,
   "metadata": {},
   "outputs": [],
   "source": [
    "import numpy as np\n"
   ]
  },
  {
   "cell_type": "code",
   "execution_count": 76,
   "metadata": {},
   "outputs": [],
   "source": [
    "class BBG:\n",
    "\tdef __init__(self, alpha: float=2.0, epsilon: float=1.0):\n",
    "\t\tself.alpha = alpha\n",
    "\t\tself.epsilon = epsilon\n",
    "\t\n",
    "\t#mxn matrix -> m points, each are in R^n. \n",
    "\tdef run(self, points: np.ndarray, k: int=-1):\n",
    "\t\tm = points.shape[0]\n",
    "\t\tn = points.shape[1]\n",
    "\t\tdistances = BBG.get_euclidean_distances(points)\n",
    "\t\tsorted_distances = np.sort(np.unique(np.ravel(distances)))\n",
    "\t\tfor tau in sorted_distances:\n",
    "\t\t\ttau_neighbors = np.where(distances <= tau, 1, 0) \n",
    "\t\t\t# zero out the diagonal\n",
    "\t\t\tnp.fill_diagonal(tau_neighbors, 0)\n",
    "\t\t\tb = (1 + 5/self.alpha)*self.epsilon*n\n",
    "\t\t\tH = np.zeros((m, m))\n",
    "\n",
    "\t\t\t#if somebody wants to find a more numpy/pythonic way to this \n",
    "\t\t\t#feel free to change it\n",
    "\t\t\tfor (r, c) in list(zip(range(m), range(m))):\n",
    "\t\t\t\tH[r][c] = np.count_nonzero(np.logical_and(tau_neighbors[r], tau_neighbors[c]))\n",
    "\t\t\tH = np.where(H >= b, 1, 0) # H contains the number of shared neighbors between each pair of points\n",
    "\t\t\tconnected_components = BBG.find_components(H)\n",
    "\t\t\ttop_k_component_indices = BBG.get_topk_components(connected_components, k)\n",
    "\t\t\ttop_k_components = [connected_components[i] for i in top_k_component_indices]\n",
    "\t\t\t# print(\"tau: \", tau, \" num components: \", len(top_k_components), \"components: \", top_k_components)\n",
    "\t\t\ttotal_points_in_all_components = sum(map(lambda x: len(x), top_k_components))\n",
    "\t\t\tmin_num_points_in_component = min(map(lambda x: len(x), top_k_components))\n",
    "\t\t\t# can we run the last step?\n",
    "\t\t\tif min_num_points_in_component > b and total_points_in_all_components >= m*(1 - self.epsilon - 5*self.epsilon/self.alpha):\n",
    "\t\t\t\tbreak\n",
    "\t\t\t \n",
    "\t\tclusters = BBG.label_points(distances, top_k_components)\n",
    "\t\treturn clusters\n",
    "\t\t\n",
    "\n",
    "\t@staticmethod\n",
    "\tdef label_points(distances, clusters):\n",
    "\t\t# distances is an mxm matrix where the (i,j) index contains the distance from point i to point j\n",
    "\t\t# clusters is a list of lists of indices where each list of indices represents a cluster\n",
    "\t\t# returns a list of labels of size m where the ith index contains the label of point i according to the \n",
    "\t\t# minimum median distance from point i to all other points in each cluster\n",
    "\t\tlabels = np.zeros(len(distances))\n",
    "\t\tfor i in range(len(distances)):\n",
    "\t\t\tmin_median = float('inf')\n",
    "\t\t\tfor cluster_index, cluster in enumerate(clusters):\n",
    "\t\t\t\tmedian = np.median(distances[i][cluster])\n",
    "\t\t\t\tif median < min_median:\n",
    "\t\t\t\t\tmin_median = median\n",
    "\t\t\t\t\tlabels[i] = cluster_index\n",
    "\t\treturn labels\n",
    "\n",
    "\n",
    "\t\t\n",
    "\n",
    "\t@staticmethod\n",
    "\tdef find_components(H: np.ndarray): \n",
    "\t\tvisited = [False]*len(H)\n",
    "\t\tcomponents = []\n",
    "\t\tfor i in range(len(H)):\n",
    "\t\t\tif visited[i]:\n",
    "\t\t\t\tcontinue\n",
    "\t\t\tstack = [i]\n",
    "\t\t\tcomponent = []\n",
    "\t\t\twhile len(stack) != 0:\n",
    "\t\t\t\tcurr = stack.pop()\n",
    "\t\t\t\tif visited[curr]:\n",
    "\t\t\t\t\tcontinue\n",
    "\t\t\t\tvisited[curr] = True\n",
    "\t\t\t\tcomponent.append(curr)\n",
    "\t\t\t\tstack.extend(list(np.ravel(np.argwhere(H[curr]))))\n",
    "\t\t\tcomponents.append(component)\n",
    "\t\treturn components\n",
    "\n",
    "\t@staticmethod\n",
    "\tdef get_euclidean_distances(points: np.ndarray): \n",
    "\t\t#points consists of m n-dim points in an mxn array. \n",
    "\t\t#output is an mxm array where the (i,j) index contains\n",
    "\t\t#the distance from point i to point j in points. \n",
    "\t\treturn np.linalg.norm(points[:, None, :] - points[None, :, :], axis=-1)\n",
    "\n",
    "\t@staticmethod\n",
    "\tdef get_topk_components(components, k):\n",
    "\t\t#components is a np list of lists of indices.\n",
    "\t\t#k is the number of components to return\n",
    "\t\t#returns the top k components by size\n",
    "\t\t# map the length of each component to its index\n",
    "\t\tsizes = np.array(list(map(lambda x: len(x), components)))\n",
    "\t\treturn np.argpartition(sizes, -k)[-k:]\n",
    "\t\t"
   ]
  },
  {
   "cell_type": "code",
   "execution_count": 77,
   "metadata": {},
   "outputs": [],
   "source": [
    "\"\"\"\n",
    "0  -  3 - 2\n",
    "\n",
    "1\n",
    "\n",
    "4\n",
    "\n",
    "\"\"\"\n",
    "\n",
    "\n",
    "\n",
    "# graph = np.zeros((10, 10))\n",
    "# graph[0][3] = graph[3][0] = graph[1][3] = graph[3][1] = 1\n",
    "\n",
    "# graph[4][5] = graph[5][4] = 1\n",
    "\n",
    "# graph[7][8] = graph[8][7] = graph[8][9] = graph[9][8] = 1\n",
    "\n",
    "# components = BBG.find_components(graph)\n",
    "# print(components)\n",
    "# print(BBG.get_topk_components(components, 3))\n",
    "# [[4,5] [0,3,1] [7,8,9]]\n",
    "# [\n",
    "\n",
    "# \n",
    "\n",
    "# create dummy data to test algorithm\n",
    "# sample 100 points from a 2d gaussian distribution\n",
    "points = np.random.multivariate_normal([0, 0], [[1, 0], [0, 1]], 100)\n",
    "bbg = BBG()\n",
    "clusters = bbg.run(points, 3)\n",
    "\n",
    "\n",
    "# graph clustering\n",
    "\n"
   ]
  },
  {
   "cell_type": "code",
   "execution_count": 75,
   "metadata": {},
   "outputs": [
    {
     "data": {
      "image/png": "[encoded data removed]",
      "text/plain": [
       "<Figure size 432x288 with 1 Axes>"
      ]
     },
     "metadata": {
      "needs_background": "light"
     },
     "output_type": "display_data"
    }
   ],
   "source": [
    "# graph points and color them according to their cluster\n",
    "import matplotlib.pyplot as plt\n",
    "plt.scatter(points[:, 0], points[:, 1], c=clusters)\n",
    "plt.show()"
   ]
  },
  {
   "cell_type": "code",
   "execution_count": null,
   "metadata": {},
   "outputs": [],
   "source": []
  }
 ],
 "metadata": {
  "kernelspec": {
   "display_name": "base",
   "language": "python",
   "name": "python3"
  },
  "language_info": {
   "codemirror_mode": {
    "name": "ipython",
    "version": 3
   },
   "file_extension": ".py",
   "mimetype": "text/x-python",
   "name": "python",
   "nbconvert_exporter": "python",
   "pygments_lexer": "ipython3",
   "version": "3.9.12"
  }
 },
 "nbformat": 4,
 "nbformat_minor": 2
}
